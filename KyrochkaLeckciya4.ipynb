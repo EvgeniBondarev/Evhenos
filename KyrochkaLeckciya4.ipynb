{
  "nbformat": 4,
  "nbformat_minor": 0,
  "metadata": {
    "colab": {
      "provenance": [],
      "include_colab_link": true
    },
    "kernelspec": {
      "name": "python3",
      "display_name": "Python 3"
    },
    "language_info": {
      "name": "python"
    }
  },
  "cells": [
    {
      "cell_type": "markdown",
      "metadata": {
        "id": "view-in-github",
        "colab_type": "text"
      },
      "source": [
        "<a href=\"https://colab.research.google.com/github/EvgeniBondarev/Evhenos/blob/main/KyrochkaLeckciya4.ipynb\" target=\"_parent\"><img src=\"https://colab.research.google.com/assets/colab-badge.svg\" alt=\"Open In Colab\"/></a>"
      ]
    },
    {
      "cell_type": "code",
      "execution_count": null,
      "metadata": {
        "id": "PWAYXR6g-IDG"
      },
      "outputs": [],
      "source": [
        "import numpy as np\n",
        "import matplotlib.pyplot as plt\n",
        "import seaborn as sns\n",
        "import pandas as pd\n",
        "from sklearn.neighbors import KNeighborsClassifier\n",
        "from sklearn.metrics import classification_report, confusion_matrix\n",
        "from sklearn.model_selection import train_test_split\n",
        "\n",
        "from keras.datasets import mnist"
      ]
    },
    {
      "cell_type": "code",
      "source": [],
      "metadata": {
        "id": "tjDFLMVQKY3L"
      },
      "execution_count": null,
      "outputs": []
    },
    {
      "cell_type": "code",
      "source": [
        "(x_train,y_train),(x_test,y_test) = mnist.load_data()"
      ],
      "metadata": {
        "colab": {
          "base_uri": "https://localhost:8080/"
        },
        "id": "ifiXw0nC_Mb8",
        "outputId": "74e394dd-f01f-4bd0-aa72-bf68ce75b6cc"
      },
      "execution_count": null,
      "outputs": [
        {
          "output_type": "stream",
          "name": "stdout",
          "text": [
            "Downloading data from https://storage.googleapis.com/tensorflow/tf-keras-datasets/mnist.npz\n",
            "11490434/11490434 [==============================] - 0s 0us/step\n"
          ]
        }
      ]
    },
    {
      "cell_type": "code",
      "source": [
        "plt.figure(figsize = (9,5))\n",
        "for i in range(27):\n",
        "  plt.subplot(3,9,i+1)\n",
        "  plt.imshow(x_train[i],cmap = \"icefire\")\n",
        "  plt.axis(\"off\")"
      ],
      "metadata": {
        "id": "wuF7FKJa_inQ"
      },
      "execution_count": null,
      "outputs": []
    },
    {
      "cell_type": "code",
      "source": [
        "x_train = x_train.reshape([-1,784]) / 255.0\n",
        "x_test = x_test.reshape([-1,784]) / 255.0\n",
        "\n",
        "(x_train1,x_test1,y_train1,y_test1) = train_test_split(x_train,y_train,test_size = 0.25, random_state= 42)\n",
        "(x_train1,x_val,y_train1,y_val) = train_test_split(x_train,y_train,test_size = 0.1, random_state= 84)"
      ],
      "metadata": {
        "id": "e7cZiib9_5XL"
      },
      "execution_count": null,
      "outputs": []
    },
    {
      "cell_type": "code",
      "source": [
        "print(\"Train size {0}\".format(len(y_train1)))\n",
        "print(\"Test size {0}\".format(len(y_test1)))\n",
        "print(\"Val size {0}\".format(len(y_val)))"
      ],
      "metadata": {
        "colab": {
          "base_uri": "https://localhost:8080/"
        },
        "id": "3ADAQse1BG2i",
        "outputId": "014e4614-f37d-4e89-b49b-40c7b9cc8ab0"
      },
      "execution_count": null,
      "outputs": [
        {
          "output_type": "stream",
          "name": "stdout",
          "text": [
            "Train size 54000\n",
            "Test size 15000\n",
            "Val size 6000\n"
          ]
        }
      ]
    },
    {
      "cell_type": "markdown",
      "source": [
        "#МЕТОД K-БЛИЖАЙШИХ СОСЕДЕЙ"
      ],
      "metadata": {
        "id": "RyBLt50zCxdo"
      }
    },
    {
      "cell_type": "code",
      "source": [
        "#МЕТОД БЛИЖАЙШИХ СОСЕДЕЙ\n",
        "kVals = [1, 3,5,10,15]\n",
        "accurat = []\n",
        "\n",
        "for k in kVals:\n",
        "  model = KNeighborsClassifier(n_neighbors= k)\n",
        "  model.fit(x_train1,y_train1)\n",
        "  score = model.score(x_val,y_val)\n",
        "  print(\"K = {0} accurat = {1}\".format(k, score))\n",
        "  accurat.append(score)                                                    "
      ],
      "metadata": {
        "colab": {
          "base_uri": "https://localhost:8080/"
        },
        "id": "rC4nakzWBvCV",
        "outputId": "ae0ef23d-f9fb-4379-c8c0-ead0977331c1"
      },
      "execution_count": null,
      "outputs": [
        {
          "output_type": "stream",
          "name": "stdout",
          "text": [
            "K = 1 accurat = 0.9748333333333333\n",
            "K = 3 accurat = 0.9761666666666666\n",
            "K = 5 accurat = 0.9728333333333333\n",
            "K = 10 accurat = 0.9706666666666667\n",
            "K = 15 accurat = 0.966\n"
          ]
        }
      ]
    },
    {
      "cell_type": "code",
      "source": [
        "index = np.argmax(accurat)\n",
        "print(\"k = {0} is the best. Achieved accuracy is {1}\".format(kVals[index],accurat[index]))"
      ],
      "metadata": {
        "colab": {
          "base_uri": "https://localhost:8080/"
        },
        "id": "mLF1sGB8Eceb",
        "outputId": "60f86207-5630-4d30-8955-18fb0f66a7fd"
      },
      "execution_count": null,
      "outputs": [
        {
          "output_type": "stream",
          "name": "stdout",
          "text": [
            "k = 3 is the best. Achieved accuracy is 0.9761666666666666\n"
          ]
        }
      ]
    },
    {
      "cell_type": "code",
      "source": [
        "bestModel = KNeighborsClassifier(n_neighbors= kVals[index])\n",
        "bestModel.fit(x_train1,y_train1)\n",
        "y_prediction = bestModel.predict(x_test1)\n",
        "\n",
        "print(\"Evaluation of model \")\n",
        "print(classification_report(y_test1,y_prediction))"
      ],
      "metadata": {
        "colab": {
          "base_uri": "https://localhost:8080/"
        },
        "id": "vu1UWJS7FHLP",
        "outputId": "85e14f89-c677-4a93-a23e-8598b4162887"
      },
      "execution_count": null,
      "outputs": [
        {
          "output_type": "stream",
          "name": "stdout",
          "text": [
            "Evaluation of model \n",
            "              precision    recall  f1-score   support\n",
            "\n",
            "           0       0.99      0.99      0.99      1495\n",
            "           1       0.98      1.00      0.99      1649\n",
            "           2       0.99      0.98      0.98      1471\n",
            "           3       0.99      0.98      0.98      1518\n",
            "           4       0.99      0.98      0.99      1443\n",
            "           5       0.98      0.98      0.98      1383\n",
            "           6       0.99      1.00      0.99      1482\n",
            "           7       0.98      0.99      0.98      1635\n",
            "           8       0.99      0.97      0.98      1445\n",
            "           9       0.98      0.98      0.98      1479\n",
            "\n",
            "    accuracy                           0.99     15000\n",
            "   macro avg       0.99      0.98      0.99     15000\n",
            "weighted avg       0.99      0.99      0.99     15000\n",
            "\n"
          ]
        }
      ]
    },
    {
      "cell_type": "code",
      "source": [
        "cm = confusion_matrix(y_true = y_test1,y_pred = y_prediction)\n",
        "print(cm)"
      ],
      "metadata": {
        "colab": {
          "base_uri": "https://localhost:8080/"
        },
        "id": "yEtayZEjGD9p",
        "outputId": "73d7dc52-3e86-4fbe-83bf-8f96fcd4e7c2"
      },
      "execution_count": null,
      "outputs": [
        {
          "output_type": "stream",
          "name": "stdout",
          "text": [
            "[[1486    0    0    0    0    2    5    0    0    2]\n",
            " [   0 1644    3    0    1    0    0    1    0    0]\n",
            " [   3    6 1447    0    0    1    1   11    1    1]\n",
            " [   2    0   10 1484    0    8    0    6    4    4]\n",
            " [   0    7    1    1 1419    0    0    2    1   12]\n",
            " [   2    1    0    6    1 1357   10    0    2    4]\n",
            " [   0    1    0    1    1    2 1477    0    0    0]\n",
            " [   0   12    3    0    2    0    0 1614    1    3]\n",
            " [   1    8    4   11    5    6    2    3 1400    5]\n",
            " [   4    4    1    3    7    2    1    7    1 1449]]\n"
          ]
        }
      ]
    },
    {
      "cell_type": "code",
      "source": [
        "from PIL import Image, ImageOps\n",
        "\n",
        "from google.colab import drive\n",
        "drive.mount(\"/content/drive\")\n",
        "!ls \"/content/drive/MyDrive\""
      ],
      "metadata": {
        "colab": {
          "base_uri": "https://localhost:8080/"
        },
        "id": "lXI5Xj_RJ3zT",
        "outputId": "a81c5236-4170-446c-82fa-bd266705f5ed"
      },
      "execution_count": null,
      "outputs": [
        {
          "output_type": "stream",
          "name": "stdout",
          "text": [
            "Drive already mounted at /content/drive; to attempt to forcibly remount, call drive.mount(\"/content/drive\", force_remount=True).\n",
            " apple.csv\t   'Google Планета Земля'   student-mat.csv\n",
            " chetiri.png\t    heart.csv\t\t    Task_preview_2023_winter.gdoc\n",
            "'Colab Notebooks'   nine.png\t\t   'С# на примерах.pdf'\n",
            " cources2022.xlsx   seven.png\n"
          ]
        }
      ]
    },
    {
      "cell_type": "code",
      "source": [
        "test_img = Image.open(\"/content/drive/MyDrive/chetiri.png\")\n",
        "test_img = ImageOps.invert(test_img)\n",
        "test_img = test_img.resize((28,28))\n",
        "test_img = test_img.convert(\"L\")\n",
        "plt.figure(figsize = (3,3))\n",
        "plt.imshow(test_img)\n"
      ],
      "metadata": {
        "colab": {
          "base_uri": "https://localhost:8080/",
          "height": 229
        },
        "id": "pSjLk5I8Hrg5",
        "outputId": "2e32e68d-ceca-4016-a434-4b8041993ad2"
      },
      "execution_count": null,
      "outputs": [
        {
          "output_type": "execute_result",
          "data": {
            "text/plain": [
              "<matplotlib.image.AxesImage at 0x7f2d1a99ec10>"
            ]
          },
          "metadata": {},
          "execution_count": 79
        },
        {
          "output_type": "display_data",
          "data": {
            "text/plain": [
              "<Figure size 216x216 with 1 Axes>"
            ],
            "image/png": "[encoded data removed]"
          },
          "metadata": {
            "needs_background": "light"
          }
        }
      ]
    },
    {
      "cell_type": "code",
      "source": [
        "test_img = np.array(test_img, np.float32) / 255.\n",
        "test_img = test_img.reshape([-1,784])\n",
        "pred = bestModel.predict(test_img)\n",
        "img = np.reshape(test_img, [28, 28])\n",
        "print(\"Predicted {0}\".format(pred))\n",
        "plt.imshow(img, cmap = 'gray')"
      ],
      "metadata": {
        "colab": {
          "base_uri": "https://localhost:8080/",
          "height": 300
        },
        "id": "tMkQcTnXKd0_",
        "outputId": "74447e68-5e57-4837-ef01-2c6a98101881"
      },
      "execution_count": null,
      "outputs": [
        {
          "output_type": "stream",
          "name": "stdout",
          "text": [
            "Predicted [4]\n"
          ]
        },
        {
          "output_type": "execute_result",
          "data": {
            "text/plain": [
              "<matplotlib.image.AxesImage at 0x7f2d1a992b80>"
            ]
          },
          "metadata": {},
          "execution_count": 80
        },
        {
          "output_type": "display_data",
          "data": {
            "text/plain": [
              "<Figure size 432x288 with 1 Axes>"
            ],
            "image/png": "[encoded data removed]"
          },
          "metadata": {
            "needs_background": "light"
          }
        }
      ]
    },
    {
      "cell_type": "code",
      "source": [
        "test_img1 = Image.open(\"/content/drive/MyDrive/seven.png\")\n",
        "test_img1 = ImageOps.invert(test_img1)\n",
        "test_img1 = test_img1.resize((28,28))\n",
        "test_img1 = test_img1.convert(\"L\")\n",
        "plt.figure(figsize = (3,3))\n",
        "plt.imshow(test_img1)\n",
        "\n",
        "test_img1 = np.array(test_img1, np.float32) / 255.\n",
        "test_img1 = test_img1.reshape([-1,784])\n",
        "pred1 = bestModel.predict(test_img1)\n",
        "img = np.reshape(test_img1, [28, 28])\n",
        "print(\"Predicted {0}\".format(pred1))\n",
        "plt.imshow(img, cmap = 'gray')"
      ],
      "metadata": {
        "colab": {
          "base_uri": "https://localhost:8080/",
          "height": 247
        },
        "id": "TLv91MxpLjkI",
        "outputId": "2f159d53-b33d-44d6-a58a-fd43289d3b3e"
      },
      "execution_count": null,
      "outputs": [
        {
          "output_type": "stream",
          "name": "stdout",
          "text": [
            "Predicted [0]\n"
          ]
        },
        {
          "output_type": "execute_result",
          "data": {
            "text/plain": [
              "<matplotlib.image.AxesImage at 0x7f2d1a86bcd0>"
            ]
          },
          "metadata": {},
          "execution_count": 82
        },
        {
          "output_type": "display_data",
          "data": {
            "text/plain": [
              "<Figure size 216x216 with 1 Axes>"
            ],
            "image/png": "[encoded data removed]"
          },
          "metadata": {
            "needs_background": "light"
          }
        }
      ]
    },
    {
      "cell_type": "code",
      "source": [
        "test_img2 = Image.open(\"/content/drive/MyDrive/nine.png\")\n",
        "test_img2 = ImageOps.invert(test_img2)\n",
        "test_img2 = test_img2.resize((28,28))\n",
        "test_img2 = test_img2.convert(\"L\")\n",
        "plt.figure(figsize = (3,3))\n",
        "plt.imshow(test_img2)\n"
      ],
      "metadata": {
        "colab": {
          "base_uri": "https://localhost:8080/",
          "height": 229
        },
        "id": "BHjt3IOQL5P5",
        "outputId": "35242af2-d832-42d9-e947-41d7b248cfeb"
      },
      "execution_count": null,
      "outputs": [
        {
          "output_type": "execute_result",
          "data": {
            "text/plain": [
              "<matplotlib.image.AxesImage at 0x7f2d16e2e430>"
            ]
          },
          "metadata": {},
          "execution_count": 75
        },
        {
          "output_type": "display_data",
          "data": {
            "text/plain": [
              "<Figure size 216x216 with 1 Axes>"
            ],
            "image/png": "[encoded data removed]"
          },
          "metadata": {
            "needs_background": "light"
          }
        }
      ]
    },
    {
      "cell_type": "code",
      "source": [
        "test_img2 = np.array(test_img2, np.float32) / 255.\n",
        "test_img2 = test_img2.reshape([-1,784])\n",
        "pred2 = bestModel.predict(test_img2)\n",
        "img = np.reshape(test_img2, [28, 28])\n",
        "print(\"Predicted {0}\".format(pred2))\n",
        "plt.imshow(img, cmap = 'gray')"
      ],
      "metadata": {
        "colab": {
          "base_uri": "https://localhost:8080/",
          "height": 300
        },
        "id": "Lknq8XEUMD_3",
        "outputId": "51e799d0-b17a-4fe1-87e2-775205913896"
      },
      "execution_count": null,
      "outputs": [
        {
          "output_type": "stream",
          "name": "stdout",
          "text": [
            "Predicted [1]\n"
          ]
        },
        {
          "output_type": "execute_result",
          "data": {
            "text/plain": [
              "<matplotlib.image.AxesImage at 0x7f2d1a6271f0>"
            ]
          },
          "metadata": {},
          "execution_count": 88
        },
        {
          "output_type": "display_data",
          "data": {
            "text/plain": [
              "<Figure size 432x288 with 1 Axes>"
            ],
            "image/png": "[encoded data removed]"
          },
          "metadata": {
            "needs_background": "light"
          }
        }
      ]
    },
    {
      "cell_type": "code",
      "source": [
        "test_img3 = Image.open(\"/content/drive/MyDrive/one.png\")\n",
        "test_img3 = ImageOps.invert(test_img3)\n",
        "test_img3 = test_img3.resize((28,28))\n",
        "test_img3 = test_img3.convert(\"L\")\n",
        "plt.figure(figsize = (3,3))\n",
        "plt.imshow(test_img3)"
      ],
      "metadata": {
        "colab": {
          "base_uri": "https://localhost:8080/",
          "height": 229
        },
        "id": "w2fXTYXLMj3B",
        "outputId": "3228d782-79d9-4eee-f533-7c538e9214be"
      },
      "execution_count": null,
      "outputs": [
        {
          "output_type": "execute_result",
          "data": {
            "text/plain": [
              "<matplotlib.image.AxesImage at 0x7f2d1a6c0970>"
            ]
          },
          "metadata": {},
          "execution_count": 85
        },
        {
          "output_type": "display_data",
          "data": {
            "text/plain": [
              "<Figure size 216x216 with 1 Axes>"
            ],
            "image/png": "[encoded data removed]"
          },
          "metadata": {
            "needs_background": "light"
          }
        }
      ]
    },
    {
      "cell_type": "code",
      "source": [
        "test_img3 = np.array(test_img3, np.float32) / 255.\n",
        "test_img3 = test_img3.reshape([-1,784])\n",
        "pred3 = bestModel.predict(test_img3)\n",
        "img = np.reshape(test_img3, [28, 28])\n",
        "print(\"Predicted {0}\".format(pred3))\n",
        "plt.imshow(img, cmap = 'gray')"
      ],
      "metadata": {
        "colab": {
          "base_uri": "https://localhost:8080/",
          "height": 300
        },
        "id": "ZbiDT81mMxds",
        "outputId": "13e85370-a290-4361-c64b-8e27a11ab66d"
      },
      "execution_count": null,
      "outputs": [
        {
          "output_type": "stream",
          "name": "stdout",
          "text": [
            "Predicted [1]\n"
          ]
        },
        {
          "output_type": "execute_result",
          "data": {
            "text/plain": [
              "<matplotlib.image.AxesImage at 0x7f2d1a73bb80>"
            ]
          },
          "metadata": {},
          "execution_count": 84
        },
        {
          "output_type": "display_data",
          "data": {
            "text/plain": [
              "<Figure size 432x288 with 1 Axes>"
            ],
            "image/png": "[encoded data removed]"
          },
          "metadata": {
            "needs_background": "light"
          }
        }
      ]
    },
    {
      "cell_type": "code",
      "source": [],
      "metadata": {
        "id": "u-GlfXAsRhzs"
      },
      "execution_count": null,
      "outputs": []
    }
  ]
}